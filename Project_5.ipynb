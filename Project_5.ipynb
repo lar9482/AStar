{
  "cells": [
    {
      "cell_type": "markdown",
      "metadata": {
        "id": "view-in-github",
        "colab_type": "text"
      },
      "source": [
        "<a href=\"https://colab.research.google.com/github/lar9482/AStar/blob/master/Project_5.ipynb\" target=\"_parent\"><img src=\"https://colab.research.google.com/assets/colab-badge.svg\" alt=\"Open In Colab\"/></a>"
      ]
    },
    {
      "cell_type": "markdown",
      "metadata": {
        "id": "h67IyVsP9NMq"
      },
      "source": [
        "# AI Project 5\n",
        "\n",
        "In this project you will complete the provided Python code, using Tensorflow, to perform image classification on the Fashion-MNIST using various CNN architectures. \n",
        "\n",
        "## **Important!** \n",
        "Make sure you change your runtime type to GPU! This can be found in the top menu following \"Runtime->Change runtime type\" then select from the dropdown GPU.\n"
      ]
    },
    {
      "cell_type": "markdown",
      "metadata": {
        "id": "ET0x3Edic4sg"
      },
      "source": [
        "## Imports, Data, and Hyperparameters"
      ]
    },
    {
      "cell_type": "markdown",
      "metadata": {
        "id": "D8mFRY-Y_Ok9"
      },
      "source": [
        "### Imports"
      ]
    },
    {
      "cell_type": "code",
      "execution_count": null,
      "metadata": {
        "colab": {
          "base_uri": "https://localhost:8080/"
        },
        "id": "r3GN4cEe_ZhO",
        "outputId": "e239131b-4163-4544-8daa-fd3f31d07ba7"
      },
      "outputs": [
        {
          "output_type": "stream",
          "name": "stdout",
          "text": [
            "2.12.0\n"
          ]
        }
      ],
      "source": [
        "import tensorflow as tf\n",
        "from tensorflow.keras import layers\n",
        "from tensorflow.keras import optimizers\n",
        "\n",
        "import numpy\n",
        "import matplotlib.pyplot as plt\n",
        "\n",
        "import time\n",
        "\n",
        "print(tf.__version__)"
      ]
    },
    {
      "cell_type": "markdown",
      "metadata": {
        "id": "maFMqmYg_wKt"
      },
      "source": [
        "### Data"
      ]
    },
    {
      "cell_type": "code",
      "execution_count": null,
      "metadata": {
        "colab": {
          "base_uri": "https://localhost:8080/"
        },
        "id": "4JcERc1O_xvO",
        "outputId": "329967b5-2d6c-4dc3-deb4-8b5c13b4ffb9"
      },
      "outputs": [
        {
          "output_type": "stream",
          "name": "stdout",
          "text": [
            "Downloading data from https://storage.googleapis.com/tensorflow/tf-keras-datasets/train-labels-idx1-ubyte.gz\n",
            "29515/29515 [==============================] - 0s 1us/step\n",
            "Downloading data from https://storage.googleapis.com/tensorflow/tf-keras-datasets/train-images-idx3-ubyte.gz\n",
            "26421880/26421880 [==============================] - 2s 0us/step\n",
            "Downloading data from https://storage.googleapis.com/tensorflow/tf-keras-datasets/t10k-labels-idx1-ubyte.gz\n",
            "5148/5148 [==============================] - 0s 0us/step\n",
            "Downloading data from https://storage.googleapis.com/tensorflow/tf-keras-datasets/t10k-images-idx3-ubyte.gz\n",
            "4422102/4422102 [==============================] - 2s 0us/step\n",
            "There are  60000  training examples and  10000  testing examples with  10  classes\n"
          ]
        }
      ],
      "source": [
        "data = tf.keras.datasets.fashion_mnist\n",
        "\n",
        "# Separate data into train and test\n",
        "(train_data, train_labels), (test_data, test_labels) = data.load_data()\n",
        "\n",
        "# get info about data\n",
        "train_size = len(train_data)\n",
        "test_size = len(test_data)\n",
        "data_shape = train_data[0].shape\n",
        "num_classes = len(set(test_labels))\n",
        "\n",
        "print(\n",
        "    \"There are \",\n",
        "    train_size,\n",
        "    \" training examples and \",\n",
        "    test_size,\n",
        "    \" testing examples with \",\n",
        "    num_classes,\n",
        "    \" classes\",\n",
        ")"
      ]
    },
    {
      "cell_type": "markdown",
      "metadata": {
        "id": "h0gIOpnSAIOj"
      },
      "source": [
        "### Preprocessing"
      ]
    },
    {
      "cell_type": "code",
      "execution_count": null,
      "metadata": {
        "colab": {
          "base_uri": "https://localhost:8080/"
        },
        "id": "4JO6YF5jAK0M",
        "outputId": "bf9ffb9d-c773-425b-cd27-d219605a227a"
      },
      "outputs": [
        {
          "output_type": "stream",
          "name": "stdout",
          "text": [
            "Each image is of shape  (28, 28)\n",
            "New image shape is  (28, 28, 1)\n"
          ]
        }
      ],
      "source": [
        "print(\"Each image is of shape \", data_shape)\n",
        "\n",
        "### Preproccess Data ###\n",
        "train_data = train_data / 255\n",
        "train_data = train_data.reshape(train_size, data_shape[0], data_shape[1], 1)\n",
        "test_data = test_data / 255\n",
        "test_data = test_data.reshape(test_size, data_shape[0], data_shape[1], 1)\n",
        "\n",
        "data_shape = train_data[0].shape\n",
        "print(\"New image shape is \", data_shape)"
      ]
    },
    {
      "cell_type": "markdown",
      "metadata": {
        "id": "H7Zli2y9CrHK"
      },
      "source": [
        "### Global Hyperparameters"
      ]
    },
    {
      "cell_type": "code",
      "execution_count": null,
      "metadata": {
        "id": "vXLDy0huCunw"
      },
      "outputs": [],
      "source": [
        "LEARNING_RATE = 0.0001\n",
        "BATCH_SIZE = 32\n",
        "EPOCHS = 25"
      ]
    },
    {
      "cell_type": "markdown",
      "metadata": {
        "id": "mI_CXCYm9jbl"
      },
      "source": [
        "## **Part 1 - The Effect of Filters**\n",
        "\n",
        "In this section you will be comparing the relative performance and training times for two different CNN architectures. \n",
        "\n",
        "Both architectures will have the following layers in order:\n",
        "\n",
        "``` Python\n",
        "Conv2D <- input layer provided\n",
        "Conv2D\n",
        "MaxPooling2D((2,2))\n",
        "Conv2D\n",
        "Conv2D\n",
        "MaxPooling2D((2,2))\n",
        "Flatten\n",
        "Dense(1024 nodes)\n",
        "Dense(num_classes, softmax) <- output layer provided\n",
        "```\n",
        "\n",
        "The input layers and output layer will be provided. \n",
        "\n",
        "In ```build_model_1A()``` the first two Conv2D layers should have 16 filters, and the second two Conv2D layers should have 32 filters.\n",
        "\n",
        "In ```build_model_1B()``` the first two Conv2d layers should have 64 filters, and the second two Conv2D layers should have 128 filters.\n",
        "\n",
        "All layers, except the output layer which is provided, should have ```activation=\"relu\"```. Also all the Conv2D layers should have ```padding=\"same\"``` and ```kernel_size=(3,3)``` passed as parameters.\n",
        "\n",
        "Only the first layer needs `input_shape` as an argument.\n",
        "\n",
        "Finally both max pooling layers should have a pool size of (2, 2)\n",
        "\n",
        "**Documentation for the each layer type:**\n",
        "\n",
        "*Conv2D*: https://keras.io/api/layers/convolution_layers/convolution2d/\n",
        "\n",
        "*MaxPooling2D*: https://keras.io/api/layers/pooling_layers/max_pooling2d/\n",
        "\n",
        "*Flatten*: https://keras.io/api/layers/reshaping_layers/flatten/\n",
        "\n",
        "*Dense*: https://keras.io/api/layers/core_layers/dense/\n",
        "\n",
        "**Documentation for Sequential model**: https://keras.io/guides/sequential_model/"
      ]
    },
    {
      "cell_type": "markdown",
      "metadata": {
        "id": "9zvsQ3bxBkpv"
      },
      "source": [
        "### ***TODO*** Model 1A"
      ]
    },
    {
      "cell_type": "code",
      "execution_count": null,
      "metadata": {
        "id": "qEPzweNg9FZ3"
      },
      "outputs": [],
      "source": [
        "def build_model_1A():\n",
        "  return tf.keras.Sequential(\n",
        "      [layers.Conv2D( # <-- Input layer\n",
        "            filters=16,\n",
        "            kernel_size=(3, 3),\n",
        "            activation=\"relu\",\n",
        "            padding=\"same\",\n",
        "            input_shape=data_shape,\n",
        "        ), \n",
        "        layers.Conv2D( # <-- Second Conv2D layer\n",
        "            filters=16,\n",
        "            kernel_size=(3, 3),\n",
        "            activation=\"relu\",\n",
        "            padding=\"same\",\n",
        "        ),\n",
        "        layers.MaxPool2D( # <-- First MaxPool2D layer\n",
        "            pool_size=(2, 2)\n",
        "        ),\n",
        "        layers.Conv2D( # <-- Third Conv2D layer\n",
        "            filters=32,\n",
        "            kernel_size=(3, 3),\n",
        "            activation=\"relu\",\n",
        "            padding=\"same\",\n",
        "        ),\n",
        "        layers.Conv2D( # <-- Fourth Conv2D layer\n",
        "            filters=32,\n",
        "            kernel_size=(3, 3),\n",
        "            activation=\"relu\",\n",
        "            padding=\"same\",\n",
        "        ),\n",
        "        layers.MaxPool2D( # <-- Fourth MaxPool2D layer\n",
        "            pool_size=(2, 2)\n",
        "        ),\n",
        "        layers.Flatten(), # <-- The flatten layer\n",
        "        layers.Dense(\n",
        "            units=1024,\n",
        "            activation=\"relu\"\n",
        "        ),\n",
        "        # !!! Your layers here !!!\n",
        "        layers.Dense(num_classes, activation=\"softmax\")] # <-- Output layer\n",
        "  )"
      ]
    },
    {
      "cell_type": "markdown",
      "metadata": {
        "id": "C605QLGFCBbL"
      },
      "source": [
        "### ***TODO*** Model 1B"
      ]
    },
    {
      "cell_type": "code",
      "execution_count": null,
      "metadata": {
        "id": "Ujotmsx7CDKc"
      },
      "outputs": [],
      "source": [
        "def build_model_1B():\n",
        "  return tf.keras.Sequential(\n",
        "      [layers.Conv2D( # <-- Input layer\n",
        "            filters=64,\n",
        "            kernel_size=(3, 3),\n",
        "            activation=\"relu\",\n",
        "            padding=\"same\",\n",
        "            input_shape=data_shape,\n",
        "        ),\n",
        "       layers.Conv2D( # <-- Second Conv2D layer\n",
        "            filters=64,\n",
        "            kernel_size=(3, 3),\n",
        "            activation=\"relu\",\n",
        "            padding=\"same\",\n",
        "        ),\n",
        "        layers.MaxPool2D( # <-- First MaxPool2D layer\n",
        "            pool_size=(2, 2)\n",
        "        ),\n",
        "        layers.Conv2D( # <-- Third Conv2D layer\n",
        "            filters=128,\n",
        "            kernel_size=(3, 3),\n",
        "            activation=\"relu\",\n",
        "            padding=\"same\",\n",
        "        ),\n",
        "        layers.Conv2D( # <-- Fourth Conv2D layer\n",
        "            filters=128,\n",
        "            kernel_size=(3, 3),\n",
        "            activation=\"relu\",\n",
        "            padding=\"same\",\n",
        "        ),\n",
        "        layers.MaxPool2D( # <-- Fourth MaxPool2D layer\n",
        "            pool_size=(2, 2)\n",
        "        ),\n",
        "        layers.Flatten(), # <-- The flatten layer\n",
        "        layers.Dense(\n",
        "            units=1024,\n",
        "            activation=\"relu\"\n",
        "        ),\n",
        "        # !!! Your layers here !!!\n",
        "        layers.Dense(num_classes, activation=\"softmax\")] # <-- Output layer\n",
        "  )"
      ]
    },
    {
      "cell_type": "markdown",
      "metadata": {
        "id": "ZX6a0n4YCaLz"
      },
      "source": [
        "### Model Compilation and Summaries\n",
        "\n",
        "Compiles and prints summaries for the two architectures. Do not change.\n"
      ]
    },
    {
      "cell_type": "code",
      "execution_count": null,
      "metadata": {
        "colab": {
          "base_uri": "https://localhost:8080/"
        },
        "id": "71xHi369CZbX",
        "outputId": "13d7cfcf-3eb4-4793-bedb-3df7a1801a4f"
      },
      "outputs": [
        {
          "name": "stdout",
          "output_type": "stream",
          "text": [
            "\n",
            "Model 1A Architecture\n",
            "\n",
            "Model: \"sequential\"\n",
            "_________________________________________________________________\n",
            " Layer (type)                Output Shape              Param #   \n",
            "=================================================================\n",
            " conv2d (Conv2D)             (None, 28, 28, 16)        160       \n",
            "                                                                 \n",
            " conv2d_1 (Conv2D)           (None, 28, 28, 16)        2320      \n",
            "                                                                 \n",
            " max_pooling2d (MaxPooling2D  (None, 14, 14, 16)       0         \n",
            " )                                                               \n",
            "                                                                 \n",
            " conv2d_2 (Conv2D)           (None, 14, 14, 32)        4640      \n",
            "                                                                 \n",
            " conv2d_3 (Conv2D)           (None, 14, 14, 32)        9248      \n",
            "                                                                 \n",
            " max_pooling2d_1 (MaxPooling  (None, 7, 7, 32)         0         \n",
            " 2D)                                                             \n",
            "                                                                 \n",
            " flatten (Flatten)           (None, 1568)              0         \n",
            "                                                                 \n",
            " dense (Dense)               (None, 1024)              1606656   \n",
            "                                                                 \n",
            " dense_1 (Dense)             (None, 10)                10250     \n",
            "                                                                 \n",
            "=================================================================\n",
            "Total params: 1,633,274\n",
            "Trainable params: 1,633,274\n",
            "Non-trainable params: 0\n",
            "_________________________________________________________________\n",
            "\n",
            "Model 1B Architecture\n",
            "\n",
            "Model: \"sequential_1\"\n",
            "_________________________________________________________________\n",
            " Layer (type)                Output Shape              Param #   \n",
            "=================================================================\n",
            " conv2d_4 (Conv2D)           (None, 28, 28, 64)        640       \n",
            "                                                                 \n",
            " conv2d_5 (Conv2D)           (None, 28, 28, 64)        36928     \n",
            "                                                                 \n",
            " max_pooling2d_2 (MaxPooling  (None, 14, 14, 64)       0         \n",
            " 2D)                                                             \n",
            "                                                                 \n",
            " conv2d_6 (Conv2D)           (None, 14, 14, 128)       73856     \n",
            "                                                                 \n",
            " conv2d_7 (Conv2D)           (None, 14, 14, 128)       147584    \n",
            "                                                                 \n",
            " max_pooling2d_3 (MaxPooling  (None, 7, 7, 128)        0         \n",
            " 2D)                                                             \n",
            "                                                                 \n",
            " flatten_1 (Flatten)         (None, 6272)              0         \n",
            "                                                                 \n",
            " dense_2 (Dense)             (None, 1024)              6423552   \n",
            "                                                                 \n",
            " dense_3 (Dense)             (None, 10)                10250     \n",
            "                                                                 \n",
            "=================================================================\n",
            "Total params: 6,692,810\n",
            "Trainable params: 6,692,810\n",
            "Non-trainable params: 0\n",
            "_________________________________________________________________\n"
          ]
        }
      ],
      "source": [
        "tf.keras.backend.clear_session() # clear previously compiled models\n",
        "\n",
        "optimizer = optimizers.Adam(learning_rate = LEARNING_RATE) # set optimizer\n",
        "\n",
        "# get networks\n",
        "model_1a = build_model_1A() \n",
        "model_1b = build_model_1B()\n",
        "\n",
        "\n",
        "# compile networks\n",
        "model_1a.compile(\n",
        "    optimizer=optimizer,\n",
        "    loss=tf.keras.losses.SparseCategoricalCrossentropy(from_logits=False),\n",
        "    metrics=[\"accuracy\"],\n",
        ")\n",
        "\n",
        "optimizer = optimizers.Adam(learning_rate = LEARNING_RATE) # set optimizer\n",
        "\n",
        "model_1b.compile(\n",
        "    optimizer=optimizer,\n",
        "    loss=tf.keras.losses.SparseCategoricalCrossentropy(from_logits=False),\n",
        "    metrics=[\"accuracy\"],\n",
        ")\n",
        "\n",
        "# print summaries\n",
        "\n",
        "print(\"\\nModel 1A Architecture\\n\")\n",
        "model_1a.summary()\n",
        "\n",
        "print(\"\\nModel 1B Architecture\\n\")\n",
        "model_1b.summary()"
      ]
    },
    {
      "cell_type": "markdown",
      "metadata": {
        "id": "qUpK13JZEKW1"
      },
      "source": [
        "### Testing Helper Method\n",
        "\n",
        "Method to help with testing. Do not change\n"
      ]
    },
    {
      "cell_type": "code",
      "execution_count": null,
      "metadata": {
        "id": "zvGTmm0gEQ5k"
      },
      "outputs": [],
      "source": [
        "def perf_and_test(model, model_name):\n",
        "  start = time.time()\n",
        "  history = model.fit(train_data, train_labels, epochs=EPOCHS, batch_size=BATCH_SIZE)\n",
        "  print(\"\\n\" + model_name + \" testing information\\n\")\n",
        "  print(\"\\nTraining took \", round((time.time() - start),2), \"seconds\\n\")\n",
        "\n",
        "  print(\"\\nTesting statistics\\n\")\n",
        "  test_loss, test_acc = model.evaluate(test_data, test_labels, verbose=2)\n",
        "\n",
        "  fig,ax = plt.subplots()\n",
        "  ax.plot(history.history['accuracy'],color=\"red\")\n",
        "  ax.set_xlabel(\"epoch\",fontsize=14)\n",
        "  ax.set_ylabel(\"accuracy\", color=\"red\", fontsize=14)\n",
        "  ax2=ax.twinx()\n",
        "  ax2.plot(history.history['loss'],color=\"blue\")\n",
        "  ax2.set_ylabel(\"loss\", color=\"blue\", fontsize=14)\n",
        "  plt.title(\"Training Acc. and Loss: \" + model_name)\n",
        "  plt.show()"
      ]
    },
    {
      "cell_type": "markdown",
      "metadata": {
        "id": "Rjt9DwSMXgMo"
      },
      "source": [
        "### ***TODO*** Global Hyperparameters\n",
        "\n",
        "Start with a number of epochs that seems too high Ex:(between 30 and 80). After training, examine the loss plot to identify a point of diminishing returns in training, and then set the number of training epochs equal to that. Note any changes in testing accuracy."
      ]
    },
    {
      "cell_type": "code",
      "execution_count": null,
      "metadata": {
        "id": "GFI31S_WXgMp"
      },
      "outputs": [],
      "source": [
        "EPOCHS = 20"
      ]
    },
    {
      "cell_type": "markdown",
      "metadata": {
        "id": "Ni9W075_EkLR"
      },
      "source": [
        "### Testing models\n",
        "\n",
        "The following code cell will run both models and provided statistics for the training time, testing accuracy, and testing loss of the models. It also generates graphs for training accuracy and loss over time. These graphs can be used in your report.\n"
      ]
    },
    {
      "cell_type": "code",
      "execution_count": null,
      "metadata": {
        "colab": {
          "base_uri": "https://localhost:8080/",
          "height": 1000
        },
        "id": "gpurcAUFEsoE",
        "outputId": "6da3e437-1ce7-455c-e34a-17f2d73a4d4e"
      },
      "outputs": [
        {
          "name": "stdout",
          "output_type": "stream",
          "text": [
            "Epoch 1/20\n",
            "1875/1875 [==============================] - 11s 4ms/step - loss: 0.5364 - accuracy: 0.8124\n",
            "Epoch 2/20\n",
            "1875/1875 [==============================] - 8s 4ms/step - loss: 0.3557 - accuracy: 0.8720\n",
            "Epoch 3/20\n",
            "1875/1875 [==============================] - 8s 4ms/step - loss: 0.3064 - accuracy: 0.8892\n",
            "Epoch 4/20\n",
            "1875/1875 [==============================] - 8s 4ms/step - loss: 0.2758 - accuracy: 0.9001\n",
            "Epoch 5/20\n",
            "1875/1875 [==============================] - 8s 4ms/step - loss: 0.2498 - accuracy: 0.9090\n",
            "Epoch 6/20\n",
            "1875/1875 [==============================] - 8s 4ms/step - loss: 0.2295 - accuracy: 0.9175\n",
            "Epoch 7/20\n",
            "1875/1875 [==============================] - 8s 4ms/step - loss: 0.2109 - accuracy: 0.9233\n",
            "Epoch 8/20\n",
            "1875/1875 [==============================] - 9s 5ms/step - loss: 0.1957 - accuracy: 0.9278\n",
            "Epoch 9/20\n",
            "1875/1875 [==============================] - 8s 4ms/step - loss: 0.1800 - accuracy: 0.9349\n",
            "Epoch 10/20\n",
            "1875/1875 [==============================] - 8s 4ms/step - loss: 0.1676 - accuracy: 0.9382\n",
            "Epoch 11/20\n",
            "1875/1875 [==============================] - 8s 4ms/step - loss: 0.1549 - accuracy: 0.9436\n",
            "Epoch 12/20\n",
            "1875/1875 [==============================] - 8s 4ms/step - loss: 0.1425 - accuracy: 0.9479\n",
            "Epoch 13/20\n",
            "1875/1875 [==============================] - 8s 4ms/step - loss: 0.1314 - accuracy: 0.9515\n",
            "Epoch 14/20\n",
            "1875/1875 [==============================] - 8s 4ms/step - loss: 0.1189 - accuracy: 0.9572\n",
            "Epoch 15/20\n",
            "1875/1875 [==============================] - 8s 4ms/step - loss: 0.1085 - accuracy: 0.9607\n",
            "Epoch 16/20\n",
            "1875/1875 [==============================] - 8s 4ms/step - loss: 0.0977 - accuracy: 0.9649\n",
            "Epoch 17/20\n",
            "1875/1875 [==============================] - 8s 4ms/step - loss: 0.0862 - accuracy: 0.9690\n",
            "Epoch 18/20\n",
            "1875/1875 [==============================] - 8s 4ms/step - loss: 0.0782 - accuracy: 0.9723\n",
            "Epoch 19/20\n",
            "1875/1875 [==============================] - 8s 4ms/step - loss: 0.0682 - accuracy: 0.9755\n",
            "Epoch 20/20\n",
            "1875/1875 [==============================] - 8s 5ms/step - loss: 0.0600 - accuracy: 0.9790\n",
            "\n",
            "Model 1A testing information\n",
            "\n",
            "\n",
            "Training took  165.17 seconds\n",
            "\n",
            "\n",
            "Testing statistics\n",
            "\n",
            "313/313 - 1s - loss: 0.3002 - accuracy: 0.9187 - 777ms/epoch - 2ms/step\n"
          ]
        },
        {
          "data": {
            "image/png": "[encoded data removed]",
            "text/plain": [
              "<Figure size 640x480 with 2 Axes>"
            ]
          },
          "metadata": {},
          "output_type": "display_data"
        },
        {
          "name": "stdout",
          "output_type": "stream",
          "text": [
            "Epoch 1/20\n",
            "1875/1875 [==============================] - 15s 7ms/step - loss: 0.4518 - accuracy: 0.8364\n",
            "Epoch 2/20\n",
            "1875/1875 [==============================] - 13s 7ms/step - loss: 0.2816 - accuracy: 0.8985\n",
            "Epoch 3/20\n",
            "1875/1875 [==============================] - 13s 7ms/step - loss: 0.2322 - accuracy: 0.9155\n",
            "Epoch 4/20\n",
            "1875/1875 [==============================] - 13s 7ms/step - loss: 0.1962 - accuracy: 0.9281\n",
            "Epoch 5/20\n",
            "1875/1875 [==============================] - 13s 7ms/step - loss: 0.1657 - accuracy: 0.9382\n",
            "Epoch 6/20\n",
            "1875/1875 [==============================] - 13s 7ms/step - loss: 0.1403 - accuracy: 0.9488\n",
            "Epoch 7/20\n",
            "1875/1875 [==============================] - 13s 7ms/step - loss: 0.1165 - accuracy: 0.9566\n",
            "Epoch 8/20\n",
            "1875/1875 [==============================] - 13s 7ms/step - loss: 0.0936 - accuracy: 0.9657\n",
            "Epoch 9/20\n",
            "1875/1875 [==============================] - 13s 7ms/step - loss: 0.0737 - accuracy: 0.9734\n",
            "Epoch 10/20\n",
            "1875/1875 [==============================] - 13s 7ms/step - loss: 0.0566 - accuracy: 0.9794\n",
            "Epoch 11/20\n",
            "1875/1875 [==============================] - 13s 7ms/step - loss: 0.0430 - accuracy: 0.9848\n",
            "Epoch 12/20\n",
            "1875/1875 [==============================] - 13s 7ms/step - loss: 0.0341 - accuracy: 0.9881\n",
            "Epoch 13/20\n",
            "1875/1875 [==============================] - 13s 7ms/step - loss: 0.0271 - accuracy: 0.9905\n",
            "Epoch 14/20\n",
            "1875/1875 [==============================] - 13s 7ms/step - loss: 0.0215 - accuracy: 0.9926\n",
            "Epoch 15/20\n",
            "1875/1875 [==============================] - 13s 7ms/step - loss: 0.0182 - accuracy: 0.9938\n",
            "Epoch 16/20\n",
            "1875/1875 [==============================] - 13s 7ms/step - loss: 0.0150 - accuracy: 0.9952\n",
            "Epoch 17/20\n",
            "1875/1875 [==============================] - 13s 7ms/step - loss: 0.0135 - accuracy: 0.9954\n",
            "Epoch 18/20\n",
            "1875/1875 [==============================] - 13s 7ms/step - loss: 0.0113 - accuracy: 0.9964\n",
            "Epoch 19/20\n",
            "1875/1875 [==============================] - 13s 7ms/step - loss: 0.0103 - accuracy: 0.9966\n",
            "Epoch 20/20\n",
            "1875/1875 [==============================] - 13s 7ms/step - loss: 0.0101 - accuracy: 0.9967\n",
            "\n",
            "Model 1B testing information\n",
            "\n",
            "\n",
            "Training took  258.8 seconds\n",
            "\n",
            "\n",
            "Testing statistics\n",
            "\n",
            "313/313 - 1s - loss: 0.4202 - accuracy: 0.9309 - 976ms/epoch - 3ms/step\n"
          ]
        },
        {
          "data": {
            "image/png": "[encoded data removed]",
            "text/plain": [
              "<Figure size 640x480 with 2 Axes>"
            ]
          },
          "metadata": {},
          "output_type": "display_data"
        }
      ],
      "source": [
        "### Model Compilation code included to allow for fresh reruns ###\n",
        "\n",
        "tf.keras.backend.clear_session() # clear previously compiled models\n",
        "\n",
        "optimizer = optimizers.Adam(learning_rate = LEARNING_RATE) # set optimizer\n",
        "\n",
        "# get networks\n",
        "model_1a = build_model_1A() \n",
        "model_1b = build_model_1B()\n",
        "\n",
        "\n",
        "# compile networks\n",
        "model_1a.compile(\n",
        "    optimizer=optimizer,\n",
        "    loss=tf.keras.losses.SparseCategoricalCrossentropy(from_logits=False),\n",
        "    metrics=[\"accuracy\"],\n",
        ")\n",
        "\n",
        "optimizer = optimizers.Adam(learning_rate = LEARNING_RATE) # set optimizer\n",
        "\n",
        "model_1b.compile(\n",
        "    optimizer=optimizer,\n",
        "    loss=tf.keras.losses.SparseCategoricalCrossentropy(from_logits=False),\n",
        "    metrics=[\"accuracy\"],\n",
        ")\n",
        "\n",
        "# test\n",
        "\n",
        "perf_and_test(model_1a, \"Model 1A\")\n",
        "perf_and_test(model_1b, \"Model 1B\")"
      ]
    },
    {
      "cell_type": "markdown",
      "metadata": {
        "id": "saAP6dZ-H1At"
      },
      "source": [
        "## **Part 2 - Dropout Layers**\n",
        "\n",
        "In part 2, we will be examining the effect of dropout layers on the performance of the model. Copy your code from the ```build_model_1B()``` method into the ```build_model_2()``` method, and then add dropout layers after each max pooling layer. Model 2 architecture should be:\n",
        "\n",
        "```\n",
        "Conv2D\n",
        "Conv2D\n",
        "MaxPooling2D((2,2))\n",
        "Dropout(0.5) <- Add this\n",
        "Conv2D\n",
        "Conv2D\n",
        "MaxPooling2D((2,2))\n",
        "Dropout(0.5) <- Add this\n",
        "Flatten\n",
        "Dense(1024 nodes)\n",
        "Dense(num_classes, softmax)\n",
        "```\n",
        "\n",
        "Note that the we are passing ```0.5``` as an argument to the dropout layers. This means that 50% of the connection between the max pooling and next layer will be dropped.\n",
        "\n",
        "*Documentation on dropout layers can be found here*: https://keras.io/api/layers/regularization_layers/dropout/"
      ]
    },
    {
      "cell_type": "markdown",
      "metadata": {
        "id": "LnS9xxNUJrln"
      },
      "source": [
        "### ***TODO*** Model 2"
      ]
    },
    {
      "cell_type": "code",
      "execution_count": null,
      "metadata": {
        "id": "3IkD65YIJzSw"
      },
      "outputs": [],
      "source": [
        "def build_model_2():\n",
        "  return tf.keras.Sequential(\n",
        "      [layers.Conv2D( # <-- Input layer\n",
        "            filters=64,\n",
        "            kernel_size=(3, 3),\n",
        "            activation=\"relu\",\n",
        "            padding=\"same\",\n",
        "            input_shape=data_shape,\n",
        "        ),\n",
        "       layers.Conv2D( # <-- Second Conv2D layer\n",
        "            filters=64,\n",
        "            kernel_size=(3, 3),\n",
        "            activation=\"relu\",\n",
        "            padding=\"same\",\n",
        "        ),\n",
        "        layers.MaxPool2D( # <-- First MaxPool2D layer\n",
        "            pool_size=(2, 2)\n",
        "        ),\n",
        "        layers.Dropout(0.5), # <-- First Dropout Layer\n",
        "        layers.Conv2D( # <-- Third Conv2D layer\n",
        "            filters=128,\n",
        "            kernel_size=(3, 3),\n",
        "            activation=\"relu\",\n",
        "            padding=\"same\",\n",
        "        ),\n",
        "        layers.Conv2D( # <-- Fourth Conv2D layer\n",
        "            filters=128,\n",
        "            kernel_size=(3, 3),\n",
        "            activation=\"relu\",\n",
        "            padding=\"same\",\n",
        "        ),\n",
        "        layers.MaxPool2D( # <-- Fourth MaxPool2D layer\n",
        "            pool_size=(2, 2)\n",
        "        ),\n",
        "        layers.Dropout(0.5), # <-- Second Dropout Layer\n",
        "        layers.Flatten(), # <-- The flatten layer\n",
        "        layers.Dense(\n",
        "            units=1024,\n",
        "            activation=\"relu\"\n",
        "        ),\n",
        "        # !!! Your layers here !!!\n",
        "        layers.Dense(num_classes, activation=\"softmax\")] # <-- Output layer\n",
        "  )"
      ]
    },
    {
      "cell_type": "markdown",
      "metadata": {
        "id": "LgsXrqokKge-"
      },
      "source": [
        "### Model Compilation and Summaries\n"
      ]
    },
    {
      "cell_type": "code",
      "execution_count": null,
      "metadata": {
        "colab": {
          "base_uri": "https://localhost:8080/"
        },
        "id": "AV_0oi2vKge_",
        "outputId": "e189f1f0-9154-4ad7-a28d-3db876591549"
      },
      "outputs": [
        {
          "name": "stdout",
          "output_type": "stream",
          "text": [
            "\n",
            "Model 2 Architecture\n",
            "\n",
            "Model: \"sequential\"\n",
            "_________________________________________________________________\n",
            " Layer (type)                Output Shape              Param #   \n",
            "=================================================================\n",
            " conv2d (Conv2D)             (None, 28, 28, 64)        640       \n",
            "                                                                 \n",
            " conv2d_1 (Conv2D)           (None, 28, 28, 64)        36928     \n",
            "                                                                 \n",
            " max_pooling2d (MaxPooling2D  (None, 14, 14, 64)       0         \n",
            " )                                                               \n",
            "                                                                 \n",
            " dropout (Dropout)           (None, 14, 14, 64)        0         \n",
            "                                                                 \n",
            " conv2d_2 (Conv2D)           (None, 14, 14, 128)       73856     \n",
            "                                                                 \n",
            " conv2d_3 (Conv2D)           (None, 14, 14, 128)       147584    \n",
            "                                                                 \n",
            " max_pooling2d_1 (MaxPooling  (None, 7, 7, 128)        0         \n",
            " 2D)                                                             \n",
            "                                                                 \n",
            " dropout_1 (Dropout)         (None, 7, 7, 128)         0         \n",
            "                                                                 \n",
            " flatten (Flatten)           (None, 6272)              0         \n",
            "                                                                 \n",
            " dense (Dense)               (None, 1024)              6423552   \n",
            "                                                                 \n",
            " dense_1 (Dense)             (None, 10)                10250     \n",
            "                                                                 \n",
            "=================================================================\n",
            "Total params: 6,692,810\n",
            "Trainable params: 6,692,810\n",
            "Non-trainable params: 0\n",
            "_________________________________________________________________\n"
          ]
        }
      ],
      "source": [
        "tf.keras.backend.clear_session() # clear previously compiled models\n",
        "\n",
        "optimizer = optimizers.Adam(learning_rate = LEARNING_RATE) # set optimizer\n",
        "\n",
        "# get network\n",
        "model_2 = build_model_2() \n",
        "\n",
        "# compile network\n",
        "model_2.compile(\n",
        "    optimizer=optimizer,\n",
        "    loss=tf.keras.losses.SparseCategoricalCrossentropy(from_logits=False),\n",
        "    metrics=[\"accuracy\"],\n",
        ")\n",
        "\n",
        "# print summary\n",
        "\n",
        "print(\"\\nModel 2 Architecture\\n\")\n",
        "model_2.summary()\n",
        "\n"
      ]
    },
    {
      "cell_type": "markdown",
      "metadata": {
        "id": "3s5mSscjYLJH"
      },
      "source": [
        "### **TODO** Global Hyperparameters\n",
        "\n",
        "Dropout layers, while capable of making the model more robust, also require more training. You should again increase the number of epochs to find a point of diminishing returns."
      ]
    },
    {
      "cell_type": "code",
      "execution_count": null,
      "metadata": {
        "id": "U5J5d92TYLJJ"
      },
      "outputs": [],
      "source": [
        "EPOCHS = 20"
      ]
    },
    {
      "cell_type": "markdown",
      "metadata": {
        "id": "Yk8Qz2T1Ku1M"
      },
      "source": [
        "### Testing Model 2\n",
        "\n",
        "When looking at your results, pay attention to the difference between the training and test accuracy of Model 1B to the difference of the two accuracies in Model 2."
      ]
    },
    {
      "cell_type": "code",
      "execution_count": null,
      "metadata": {
        "colab": {
          "base_uri": "https://localhost:8080/",
          "height": 1000
        },
        "id": "hCKGZ652K40G",
        "outputId": "509a06ef-b17d-4ac6-9fee-742c7879e583"
      },
      "outputs": [
        {
          "name": "stdout",
          "output_type": "stream",
          "text": [
            "Epoch 1/20\n",
            "1875/1875 [==============================] - 17s 8ms/step - loss: 0.5670 - accuracy: 0.7918\n",
            "Epoch 2/20\n",
            "1875/1875 [==============================] - 15s 8ms/step - loss: 0.3627 - accuracy: 0.8679\n",
            "Epoch 3/20\n",
            "1875/1875 [==============================] - 15s 8ms/step - loss: 0.3043 - accuracy: 0.8876\n",
            "Epoch 4/20\n",
            "1875/1875 [==============================] - 15s 8ms/step - loss: 0.2678 - accuracy: 0.9007\n",
            "Epoch 5/20\n",
            "1875/1875 [==============================] - 15s 8ms/step - loss: 0.2402 - accuracy: 0.9120\n",
            "Epoch 6/20\n",
            "1875/1875 [==============================] - 15s 8ms/step - loss: 0.2230 - accuracy: 0.9188\n",
            "Epoch 7/20\n",
            "1875/1875 [==============================] - 15s 8ms/step - loss: 0.2070 - accuracy: 0.9239\n",
            "Epoch 8/20\n",
            "1875/1875 [==============================] - 15s 8ms/step - loss: 0.1939 - accuracy: 0.9287\n",
            "Epoch 9/20\n",
            "1875/1875 [==============================] - 15s 8ms/step - loss: 0.1793 - accuracy: 0.9331\n",
            "Epoch 10/20\n",
            "1875/1875 [==============================] - 15s 8ms/step - loss: 0.1668 - accuracy: 0.9377\n",
            "Epoch 11/20\n",
            "1875/1875 [==============================] - 15s 8ms/step - loss: 0.1566 - accuracy: 0.9421\n",
            "Epoch 12/20\n",
            "1875/1875 [==============================] - 15s 8ms/step - loss: 0.1489 - accuracy: 0.9450\n",
            "Epoch 13/20\n",
            "1875/1875 [==============================] - 15s 8ms/step - loss: 0.1378 - accuracy: 0.9489\n",
            "Epoch 14/20\n",
            "1875/1875 [==============================] - 15s 8ms/step - loss: 0.1273 - accuracy: 0.9524\n",
            "Epoch 15/20\n",
            "1875/1875 [==============================] - 15s 8ms/step - loss: 0.1195 - accuracy: 0.9555\n",
            "Epoch 16/20\n",
            "1875/1875 [==============================] - 15s 8ms/step - loss: 0.1102 - accuracy: 0.9590\n",
            "Epoch 17/20\n",
            "1875/1875 [==============================] - 15s 8ms/step - loss: 0.1027 - accuracy: 0.9614\n",
            "Epoch 18/20\n",
            "1875/1875 [==============================] - 14s 8ms/step - loss: 0.0959 - accuracy: 0.9641\n",
            "Epoch 19/20\n",
            "1875/1875 [==============================] - 15s 8ms/step - loss: 0.0892 - accuracy: 0.9669\n",
            "Epoch 20/20\n",
            "1875/1875 [==============================] - 15s 8ms/step - loss: 0.0826 - accuracy: 0.9692\n",
            "\n",
            "Model 2 testing information\n",
            "\n",
            "\n",
            "Training took  296.67 seconds\n",
            "\n",
            "\n",
            "Testing statistics\n",
            "\n",
            "313/313 - 1s - loss: 0.2074 - accuracy: 0.9338 - 983ms/epoch - 3ms/step\n"
          ]
        },
        {
          "data": {
            "image/png": "[encoded data removed]",
            "text/plain": [
              "<Figure size 640x480 with 2 Axes>"
            ]
          },
          "metadata": {},
          "output_type": "display_data"
        }
      ],
      "source": [
        "tf.keras.backend.clear_session() # clear previously compiled models\n",
        "\n",
        "optimizer = optimizers.Adam(learning_rate = LEARNING_RATE) # set optimizer\n",
        "\n",
        "# get network\n",
        "model_2 = build_model_2() \n",
        "\n",
        "\n",
        "\n",
        "# compile network\n",
        "model_2.compile(\n",
        "    optimizer=optimizer,\n",
        "    loss=tf.keras.losses.SparseCategoricalCrossentropy(from_logits=False),\n",
        "    metrics=[\"accuracy\"],\n",
        ")\n",
        "\n",
        "perf_and_test(model_2, \"Model 2\")"
      ]
    },
    {
      "cell_type": "markdown",
      "metadata": {
        "id": "djGQRfobLJr3"
      },
      "source": [
        "## **Part 3 - Batch Normalization**\n",
        "\n",
        "In part 3, we will be examining the effect of batch normalization layers on the performance of the model. Copy your code from the ```build_model_1B()``` method into the ```build_model_3()``` method, and then add batch normalization layers after each Conv2D layer. The Model 3 architecture should be:\n",
        "\n",
        "```\n",
        "Conv2D\n",
        "BatchNormalization\n",
        "Conv2D\n",
        "BatchNormalization\n",
        "MaxPooling2D((2,2))\n",
        "Conv2D\n",
        "BatchNormalization\n",
        "Conv2D\n",
        "BatchNormalization\n",
        "MaxPooling2D((2,2))\n",
        "Flatten\n",
        "Dense(1024 nodes)\n",
        "Dense(num_classes, softmax)\n",
        "```\n",
        " BatchNormalization layers requires no parameters. \n",
        " \n",
        " *Documentation can be found here*: https://keras.io/api/layers/normalization_layers/batch_normalization/"
      ]
    },
    {
      "cell_type": "markdown",
      "metadata": {
        "id": "4bnDQSWzNLB2"
      },
      "source": [
        "### ***TODO*** Model 3"
      ]
    },
    {
      "cell_type": "code",
      "execution_count": null,
      "metadata": {
        "id": "B0Ij7PNUNLB3"
      },
      "outputs": [],
      "source": [
        "def build_model_3():\n",
        "  return tf.keras.Sequential(\n",
        "      [layers.Conv2D( # <-- Input layer\n",
        "            filters=64,\n",
        "            kernel_size=(3, 3),\n",
        "            activation=\"relu\",\n",
        "            padding=\"same\",\n",
        "            input_shape=data_shape,\n",
        "        ),\n",
        "        layers.BatchNormalization(),\n",
        "        layers.Conv2D( # <-- Second Conv2D layer\n",
        "            filters=64,\n",
        "            kernel_size=(3, 3),\n",
        "            activation=\"relu\",\n",
        "            padding=\"same\",\n",
        "        ),\n",
        "        layers.BatchNormalization(),\n",
        "        layers.MaxPool2D( # <-- First MaxPool2D layer\n",
        "            pool_size=(2, 2)\n",
        "        ),\n",
        "        layers.Conv2D( # <-- Third Conv2D layer\n",
        "            filters=128,\n",
        "            kernel_size=(3, 3),\n",
        "            activation=\"relu\",\n",
        "            padding=\"same\",\n",
        "        ),\n",
        "        layers.BatchNormalization(),\n",
        "        layers.Conv2D( # <-- Fourth Conv2D layer\n",
        "            filters=128,\n",
        "            kernel_size=(3, 3),\n",
        "            activation=\"relu\",\n",
        "            padding=\"same\",\n",
        "        ),\n",
        "        layers.BatchNormalization(),\n",
        "        layers.MaxPool2D( # <-- Fourth MaxPool2D layer\n",
        "            pool_size=(2, 2)\n",
        "        ),\n",
        "        layers.Flatten(), # <-- The flatten layer\n",
        "        layers.Dense(\n",
        "            units=1024,\n",
        "            activation=\"relu\"\n",
        "        ),\n",
        "        # !!! Your layers here !!!\n",
        "        layers.Dense(num_classes, activation=\"softmax\")] # <-- Output layer\n",
        "  )"
      ]
    },
    {
      "cell_type": "markdown",
      "metadata": {
        "id": "GQ44IbO8NoSq"
      },
      "source": [
        "### Model Compilation and Summary\n",
        "\n"
      ]
    },
    {
      "cell_type": "code",
      "execution_count": null,
      "metadata": {
        "colab": {
          "base_uri": "https://localhost:8080/"
        },
        "id": "21X2FgQYNoSs",
        "outputId": "7876b54b-a694-4a29-ce93-a01c9b193b94"
      },
      "outputs": [
        {
          "name": "stdout",
          "output_type": "stream",
          "text": [
            "\n",
            "Model 3 Architecture\n",
            "\n",
            "Model: \"sequential\"\n",
            "_________________________________________________________________\n",
            " Layer (type)                Output Shape              Param #   \n",
            "=================================================================\n",
            " conv2d (Conv2D)             (None, 28, 28, 64)        640       \n",
            "                                                                 \n",
            " batch_normalization (BatchN  (None, 28, 28, 64)       256       \n",
            " ormalization)                                                   \n",
            "                                                                 \n",
            " conv2d_1 (Conv2D)           (None, 28, 28, 64)        36928     \n",
            "                                                                 \n",
            " batch_normalization_1 (Batc  (None, 28, 28, 64)       256       \n",
            " hNormalization)                                                 \n",
            "                                                                 \n",
            " max_pooling2d (MaxPooling2D  (None, 14, 14, 64)       0         \n",
            " )                                                               \n",
            "                                                                 \n",
            " conv2d_2 (Conv2D)           (None, 14, 14, 128)       73856     \n",
            "                                                                 \n",
            " batch_normalization_2 (Batc  (None, 14, 14, 128)      512       \n",
            " hNormalization)                                                 \n",
            "                                                                 \n",
            " conv2d_3 (Conv2D)           (None, 14, 14, 128)       147584    \n",
            "                                                                 \n",
            " batch_normalization_3 (Batc  (None, 14, 14, 128)      512       \n",
            " hNormalization)                                                 \n",
            "                                                                 \n",
            " max_pooling2d_1 (MaxPooling  (None, 7, 7, 128)        0         \n",
            " 2D)                                                             \n",
            "                                                                 \n",
            " flatten (Flatten)           (None, 6272)              0         \n",
            "                                                                 \n",
            " dense (Dense)               (None, 1024)              6423552   \n",
            "                                                                 \n",
            " dense_1 (Dense)             (None, 10)                10250     \n",
            "                                                                 \n",
            "=================================================================\n",
            "Total params: 6,694,346\n",
            "Trainable params: 6,693,578\n",
            "Non-trainable params: 768\n",
            "_________________________________________________________________\n"
          ]
        }
      ],
      "source": [
        "tf.keras.backend.clear_session() # clear previously compiled models\n",
        "\n",
        "optimizer = optimizers.Adam(learning_rate = LEARNING_RATE) # set optimizer\n",
        "\n",
        "# get network\n",
        "model_3 = build_model_3() \n",
        "\n",
        "\n",
        "# compile network\n",
        "model_3.compile(\n",
        "    optimizer=optimizer,\n",
        "    loss=tf.keras.losses.SparseCategoricalCrossentropy(from_logits=False),\n",
        "    metrics=[\"accuracy\"],\n",
        ")\n",
        "\n",
        "# print summary\n",
        "\n",
        "print(\"\\nModel 3 Architecture\\n\")\n",
        "model_3.summary()\n",
        "\n"
      ]
    },
    {
      "cell_type": "markdown",
      "metadata": {
        "id": "W40rVSoeZAlt"
      },
      "source": [
        "### ***TODO*** Global Hyperparameters\n",
        " \n",
        " Batch normalization has been shown to improve convergence in neural networks, and so the number of training epochs required may be lower than in the other architectures. Again refer to the initial loss plot to find the point of diminishing returns and update the ```EPOCHS``` variable."
      ]
    },
    {
      "cell_type": "code",
      "execution_count": null,
      "metadata": {
        "id": "dUivow6MZAlv"
      },
      "outputs": [],
      "source": [
        "EPOCHS = 10"
      ]
    },
    {
      "cell_type": "markdown",
      "metadata": {
        "id": "V8ZBMiSlNoSu"
      },
      "source": [
        "### Testing Model 3\n"
      ]
    },
    {
      "cell_type": "code",
      "execution_count": null,
      "metadata": {
        "colab": {
          "base_uri": "https://localhost:8080/",
          "height": 1000
        },
        "id": "AR_FDdEMNoSv",
        "outputId": "213396c4-ed2b-450e-d70d-f695848cac44"
      },
      "outputs": [
        {
          "name": "stdout",
          "output_type": "stream",
          "text": [
            "Epoch 1/10\n",
            "1875/1875 [==============================] - 18s 8ms/step - loss: 0.3626 - accuracy: 0.8745\n",
            "Epoch 2/10\n",
            "1875/1875 [==============================] - 15s 8ms/step - loss: 0.2119 - accuracy: 0.9226\n",
            "Epoch 3/10\n",
            "1875/1875 [==============================] - 14s 8ms/step - loss: 0.1557 - accuracy: 0.9424\n",
            "Epoch 4/10\n",
            "1875/1875 [==============================] - 14s 8ms/step - loss: 0.1138 - accuracy: 0.9582\n",
            "Epoch 5/10\n",
            "1875/1875 [==============================] - 14s 8ms/step - loss: 0.0826 - accuracy: 0.9700\n",
            "Epoch 6/10\n",
            "1875/1875 [==============================] - 15s 8ms/step - loss: 0.0561 - accuracy: 0.9790\n",
            "Epoch 7/10\n",
            "1875/1875 [==============================] - 14s 8ms/step - loss: 0.0442 - accuracy: 0.9838\n",
            "Epoch 8/10\n",
            "1875/1875 [==============================] - 14s 8ms/step - loss: 0.0336 - accuracy: 0.9876\n",
            "Epoch 9/10\n",
            "1875/1875 [==============================] - 14s 8ms/step - loss: 0.0293 - accuracy: 0.9893\n",
            "Epoch 10/10\n",
            "1875/1875 [==============================] - 15s 8ms/step - loss: 0.0264 - accuracy: 0.9904\n",
            "\n",
            "Model 3 testing information\n",
            "\n",
            "\n",
            "Training took  203.6 seconds\n",
            "\n",
            "\n",
            "Testing statistics\n",
            "\n",
            "313/313 - 1s - loss: 0.3471 - accuracy: 0.9235 - 1s/epoch - 4ms/step\n"
          ]
        },
        {
          "data": {
            "image/png": "[encoded data removed]",
            "text/plain": [
              "<Figure size 640x480 with 2 Axes>"
            ]
          },
          "metadata": {},
          "output_type": "display_data"
        }
      ],
      "source": [
        "tf.keras.backend.clear_session() # clear previously compiled models\n",
        "\n",
        "optimizer = optimizers.Adam(learning_rate = LEARNING_RATE) # set optimizer\n",
        "\n",
        "# get network\n",
        "model_3 = build_model_3() \n",
        "\n",
        "\n",
        "\n",
        "# compile network\n",
        "model_3.compile(\n",
        "    optimizer=optimizer,\n",
        "    loss=tf.keras.losses.SparseCategoricalCrossentropy(from_logits=False),\n",
        "    metrics=[\"accuracy\"],\n",
        ")\n",
        "\n",
        "perf_and_test(model_3, \"Model 3\")"
      ]
    },
    {
      "cell_type": "markdown",
      "metadata": {
        "id": "6pI2YZw9OCmI"
      },
      "source": [
        "## **Part 4 - Layer count**\n",
        "\n",
        "In the final part of this project, you will be looking out how the number of layers affect performance and training time.\n",
        "\n",
        "In ```build_model_4```, you need to implement the following architecture:\n",
        "\n",
        "```python\n",
        "# block 1 - 64 filters per Conv2D\n",
        "conv2D \n",
        "BatchNormaliztion\n",
        "conv2D\n",
        "BatchNormalization\n",
        "conv2D\n",
        "BatchNormalization\n",
        "MaxPooling2D\n",
        "Dropout(0.5)\n",
        "#block 2 - 128 filters per Conv2D\n",
        "conv2D \n",
        "BatchNormaliztion\n",
        "conv2D\n",
        "BatchNormalization\n",
        "conv2D\n",
        "BatchNormalization\n",
        "MaxPooling2D\n",
        "Dropout(0.5)\n",
        "#block 3 - 256 filters per Conv2D\n",
        "conv2D \n",
        "BatchNormaliztion\n",
        "conv2D\n",
        "BatchNormalization\n",
        "conv2D\n",
        "BatchNormalization\n",
        "MaxPooling2D\n",
        "Dropout(0.5)\n",
        "# Dense layers\n",
        "Flatten\n",
        "Dense(1024)\n",
        "Dense(512)\n",
        "Dense(num_classes, softmax)\n",
        "```\n",
        "\n",
        "Notice each block consists of 3 conv2d layers, with 3 batch normalization layers, a maxpooling and dropout layer. The first block should have 64 filters for each Conv2d layer, the second should have 128 filters, and the third should have 256. Also, we are adding an additional dense layer with 512 nodes to the model architecture."
      ]
    },
    {
      "cell_type": "markdown",
      "metadata": {
        "id": "wJh472usZ9S-"
      },
      "source": [
        "### ***TODO*** Model 4"
      ]
    },
    {
      "cell_type": "code",
      "execution_count": null,
      "metadata": {
        "id": "FmzGoD9waJ8r"
      },
      "outputs": [],
      "source": [
        "def build_model_4():\n",
        "  # Implement your model here. You can copy code from previous models as a reference.\n",
        "\n",
        "  return tf.keras.Sequential(\n",
        "      #BLOCK 1\n",
        "      [layers.Conv2D( # <-- Input layer\n",
        "            filters=64,\n",
        "            kernel_size=(3, 3),\n",
        "            activation=\"relu\",\n",
        "            padding=\"same\",\n",
        "            input_shape=data_shape,\n",
        "       ),\n",
        "       layers.BatchNormalization(),\n",
        "       layers.Conv2D( # <-- Second Conv2D layer\n",
        "            filters=64,\n",
        "            kernel_size=(3, 3),\n",
        "            activation=\"relu\",\n",
        "            padding=\"same\",\n",
        "       ),\n",
        "       layers.BatchNormalization(),\n",
        "       layers.Conv2D( # <-- Second Conv2D layer\n",
        "            filters=64,\n",
        "            kernel_size=(3, 3),\n",
        "            activation=\"relu\",\n",
        "            padding=\"same\",\n",
        "       ),\n",
        "       layers.BatchNormalization(),\n",
        "       layers.MaxPool2D( # <-- First MaxPool2D layer\n",
        "            pool_size=(2, 2)\n",
        "       ),\n",
        "       layers.Dropout(0.5),\n",
        "\n",
        "       # BLOCK 2\n",
        "       layers.Conv2D( # <-- Input layer\n",
        "            filters=128,\n",
        "            kernel_size=(3, 3),\n",
        "            activation=\"relu\",\n",
        "            padding=\"same\",\n",
        "            input_shape=data_shape,\n",
        "       ),\n",
        "       layers.BatchNormalization(),\n",
        "       layers.Conv2D( # <-- Second Conv2D layer\n",
        "            filters=128,\n",
        "            kernel_size=(3, 3),\n",
        "            activation=\"relu\",\n",
        "            padding=\"same\",\n",
        "       ),\n",
        "       layers.BatchNormalization(),\n",
        "       layers.Conv2D( # <-- Second Conv2D layer\n",
        "            filters=128,\n",
        "            kernel_size=(3, 3),\n",
        "            activation=\"relu\",\n",
        "            padding=\"same\",\n",
        "       ),\n",
        "       layers.BatchNormalization(),\n",
        "       layers.MaxPool2D( # <-- First MaxPool2D layer\n",
        "            pool_size=(2, 2)\n",
        "       ),\n",
        "       layers.Dropout(0.5),\n",
        "\n",
        "       # BLOCK 3\n",
        "       layers.Conv2D( # <-- Input layer\n",
        "            filters=256,\n",
        "            kernel_size=(3, 3),\n",
        "            activation=\"relu\",\n",
        "            padding=\"same\",\n",
        "            input_shape=data_shape,\n",
        "       ),\n",
        "       layers.BatchNormalization(),\n",
        "       layers.Conv2D( # <-- Second Conv2D layer\n",
        "            filters=256,\n",
        "            kernel_size=(3, 3),\n",
        "            activation=\"relu\",\n",
        "            padding=\"same\",\n",
        "       ),\n",
        "       layers.BatchNormalization(),\n",
        "       layers.Conv2D( # <-- Second Conv2D layer\n",
        "            filters=256,\n",
        "            kernel_size=(3, 3),\n",
        "            activation=\"relu\",\n",
        "            padding=\"same\",\n",
        "       ),\n",
        "       layers.BatchNormalization(),\n",
        "       layers.MaxPool2D( # <-- First MaxPool2D layer\n",
        "            pool_size=(2, 2)\n",
        "       ),\n",
        "       layers.Dropout(0.5),\n",
        "\n",
        "       #DENSE LAYERS\n",
        "        layers.Flatten(), # <-- The flatten layer\n",
        "        layers.Dense(\n",
        "            units=1024,\n",
        "            activation=\"relu\"\n",
        "        ),\n",
        "        layers.Dense(\n",
        "            units=512,\n",
        "            activation=\"relu\"\n",
        "        ),\n",
        "        layers.Dense(num_classes, activation=\"softmax\")] # <-- Output layer\n",
        "  )"
      ]
    },
    {
      "cell_type": "markdown",
      "metadata": {
        "id": "B51tFQkVZ44z"
      },
      "source": [
        "### ***TODO*** Global Hyperparameters\n",
        "\n",
        "Larger models generally require more training as there are more parameters, so you may need to increase the number of training epochs for this model. In addition, more complicated architectures and problem domains can benefit from lower learning rates. Experiment with the learning rate to see if you notice any improvements. Keep in mind that decreasing the learning rate increases the training time, and to fully train your model you may need to increase the number of epochs as well. "
      ]
    },
    {
      "cell_type": "code",
      "execution_count": null,
      "metadata": {
        "id": "2E9CXtcDZ440"
      },
      "outputs": [],
      "source": [
        "EPOCHS = 50\n",
        "LEARNING_RATE = 0.01"
      ]
    },
    {
      "cell_type": "markdown",
      "metadata": {
        "id": "EDJ9q7AmcVFA"
      },
      "source": [
        "### Model Compilation and Summary\n",
        "\n"
      ]
    },
    {
      "cell_type": "code",
      "execution_count": null,
      "metadata": {
        "colab": {
          "base_uri": "https://localhost:8080/"
        },
        "id": "JC5sRDlocVFB",
        "outputId": "a2c624a4-e4a4-458a-d6f9-b58f35764be5"
      },
      "outputs": [
        {
          "output_type": "stream",
          "name": "stdout",
          "text": [
            "\n",
            "Model 4 Architecture\n",
            "\n",
            "Model: \"sequential\"\n",
            "_________________________________________________________________\n",
            " Layer (type)                Output Shape              Param #   \n",
            "=================================================================\n",
            " conv2d (Conv2D)             (None, 28, 28, 64)        640       \n",
            "                                                                 \n",
            " batch_normalization (BatchN  (None, 28, 28, 64)       256       \n",
            " ormalization)                                                   \n",
            "                                                                 \n",
            " conv2d_1 (Conv2D)           (None, 28, 28, 64)        36928     \n",
            "                                                                 \n",
            " batch_normalization_1 (Batc  (None, 28, 28, 64)       256       \n",
            " hNormalization)                                                 \n",
            "                                                                 \n",
            " conv2d_2 (Conv2D)           (None, 28, 28, 64)        36928     \n",
            "                                                                 \n",
            " batch_normalization_2 (Batc  (None, 28, 28, 64)       256       \n",
            " hNormalization)                                                 \n",
            "                                                                 \n",
            " max_pooling2d (MaxPooling2D  (None, 14, 14, 64)       0         \n",
            " )                                                               \n",
            "                                                                 \n",
            " dropout (Dropout)           (None, 14, 14, 64)        0         \n",
            "                                                                 \n",
            " conv2d_3 (Conv2D)           (None, 14, 14, 128)       73856     \n",
            "                                                                 \n",
            " batch_normalization_3 (Batc  (None, 14, 14, 128)      512       \n",
            " hNormalization)                                                 \n",
            "                                                                 \n",
            " conv2d_4 (Conv2D)           (None, 14, 14, 128)       147584    \n",
            "                                                                 \n",
            " batch_normalization_4 (Batc  (None, 14, 14, 128)      512       \n",
            " hNormalization)                                                 \n",
            "                                                                 \n",
            " conv2d_5 (Conv2D)           (None, 14, 14, 128)       147584    \n",
            "                                                                 \n",
            " batch_normalization_5 (Batc  (None, 14, 14, 128)      512       \n",
            " hNormalization)                                                 \n",
            "                                                                 \n",
            " max_pooling2d_1 (MaxPooling  (None, 7, 7, 128)        0         \n",
            " 2D)                                                             \n",
            "                                                                 \n",
            " dropout_1 (Dropout)         (None, 7, 7, 128)         0         \n",
            "                                                                 \n",
            " conv2d_6 (Conv2D)           (None, 7, 7, 256)         295168    \n",
            "                                                                 \n",
            " batch_normalization_6 (Batc  (None, 7, 7, 256)        1024      \n",
            " hNormalization)                                                 \n",
            "                                                                 \n",
            " conv2d_7 (Conv2D)           (None, 7, 7, 256)         590080    \n",
            "                                                                 \n",
            " batch_normalization_7 (Batc  (None, 7, 7, 256)        1024      \n",
            " hNormalization)                                                 \n",
            "                                                                 \n",
            " conv2d_8 (Conv2D)           (None, 7, 7, 256)         590080    \n",
            "                                                                 \n",
            " batch_normalization_8 (Batc  (None, 7, 7, 256)        1024      \n",
            " hNormalization)                                                 \n",
            "                                                                 \n",
            " max_pooling2d_2 (MaxPooling  (None, 3, 3, 256)        0         \n",
            " 2D)                                                             \n",
            "                                                                 \n",
            " dropout_2 (Dropout)         (None, 3, 3, 256)         0         \n",
            "                                                                 \n",
            " flatten (Flatten)           (None, 2304)              0         \n",
            "                                                                 \n",
            " dense (Dense)               (None, 1024)              2360320   \n",
            "                                                                 \n",
            " dense_1 (Dense)             (None, 512)               524800    \n",
            "                                                                 \n",
            " dense_2 (Dense)             (None, 10)                5130      \n",
            "                                                                 \n",
            "=================================================================\n",
            "Total params: 4,814,474\n",
            "Trainable params: 4,811,786\n",
            "Non-trainable params: 2,688\n",
            "_________________________________________________________________\n"
          ]
        }
      ],
      "source": [
        "tf.keras.backend.clear_session() # clear previously compiled models\n",
        "\n",
        "optimizer = optimizers.Adam(learning_rate = LEARNING_RATE) # set optimizer\n",
        "\n",
        "# get network\n",
        "model_4 = build_model_4() \n",
        "\n",
        "\n",
        "# compile network\n",
        "model_4.compile(\n",
        "    optimizer=optimizer,\n",
        "    loss=tf.keras.losses.SparseCategoricalCrossentropy(from_logits=False),\n",
        "    metrics=[\"accuracy\"],\n",
        ")\n",
        "\n",
        "# print summary\n",
        "\n",
        "print(\"\\nModel 4 Architecture\\n\")\n",
        "model_4.summary()\n",
        "\n"
      ]
    },
    {
      "cell_type": "markdown",
      "metadata": {
        "id": "ZMjADtiLcduU"
      },
      "source": [
        "### Testing Model 4\n",
        "\n",
        "This model will likely take considerably longer to train (10-30 minutes depending on number of epochs, and whichever GPU Colab assigned to your runtime) . It may be a good time to take a coffee break, or work on your report for a bit.\n"
      ]
    },
    {
      "cell_type": "code",
      "execution_count": null,
      "metadata": {
        "colab": {
          "base_uri": "https://localhost:8080/",
          "height": 1000
        },
        "id": "5YyVprVxcduV",
        "outputId": "d0043a5e-aa17-49a1-85da-2a204748ea11"
      },
      "outputs": [
        {
          "output_type": "stream",
          "name": "stdout",
          "text": [
            "Epoch 1/50\n",
            "1875/1875 [==============================] - 37s 16ms/step - loss: 0.9647 - accuracy: 0.6975\n",
            "Epoch 2/50\n",
            "1875/1875 [==============================] - 30s 16ms/step - loss: 0.5919 - accuracy: 0.7849\n",
            "Epoch 3/50\n",
            "1875/1875 [==============================] - 30s 16ms/step - loss: 0.5132 - accuracy: 0.8199\n",
            "Epoch 4/50\n",
            "1875/1875 [==============================] - 30s 16ms/step - loss: 0.4893 - accuracy: 0.8340\n",
            "Epoch 5/50\n",
            "1875/1875 [==============================] - 30s 16ms/step - loss: 0.4416 - accuracy: 0.8499\n",
            "Epoch 6/50\n",
            "1875/1875 [==============================] - 30s 16ms/step - loss: 0.4022 - accuracy: 0.8664\n",
            "Epoch 7/50\n",
            "1875/1875 [==============================] - 30s 16ms/step - loss: 0.4147 - accuracy: 0.8662\n",
            "Epoch 8/50\n",
            "1875/1875 [==============================] - 30s 16ms/step - loss: 0.3798 - accuracy: 0.8783\n",
            "Epoch 9/50\n",
            "1875/1875 [==============================] - 30s 16ms/step - loss: 0.3964 - accuracy: 0.8722\n",
            "Epoch 10/50\n",
            "1875/1875 [==============================] - 30s 16ms/step - loss: 0.3628 - accuracy: 0.8835\n",
            "Epoch 11/50\n",
            "1875/1875 [==============================] - 30s 16ms/step - loss: 0.4009 - accuracy: 0.8744\n",
            "Epoch 12/50\n",
            "1875/1875 [==============================] - 30s 16ms/step - loss: 0.4191 - accuracy: 0.8727\n",
            "Epoch 13/50\n",
            "1875/1875 [==============================] - 30s 16ms/step - loss: 0.3631 - accuracy: 0.8849\n",
            "Epoch 14/50\n",
            "1875/1875 [==============================] - 30s 16ms/step - loss: 0.3796 - accuracy: 0.8789\n",
            "Epoch 15/50\n",
            "1875/1875 [==============================] - 30s 16ms/step - loss: 0.5084 - accuracy: 0.8483\n",
            "Epoch 16/50\n",
            "1875/1875 [==============================] - 30s 16ms/step - loss: 0.3737 - accuracy: 0.8821\n",
            "Epoch 17/50\n",
            "1875/1875 [==============================] - 30s 16ms/step - loss: 0.3652 - accuracy: 0.8875\n",
            "Epoch 18/50\n",
            "1875/1875 [==============================] - 30s 16ms/step - loss: 0.4139 - accuracy: 0.8774\n",
            "Epoch 19/50\n",
            "1875/1875 [==============================] - 30s 16ms/step - loss: 0.3584 - accuracy: 0.8854\n",
            "Epoch 20/50\n",
            "1875/1875 [==============================] - 30s 16ms/step - loss: 0.3945 - accuracy: 0.8859\n",
            "Epoch 21/50\n",
            "1875/1875 [==============================] - 30s 16ms/step - loss: 0.3536 - accuracy: 0.8876\n",
            "Epoch 22/50\n",
            "1875/1875 [==============================] - 30s 16ms/step - loss: 0.3999 - accuracy: 0.8820\n",
            "Epoch 23/50\n",
            "1875/1875 [==============================] - 30s 16ms/step - loss: 0.3944 - accuracy: 0.8875\n",
            "Epoch 24/50\n",
            "1875/1875 [==============================] - 30s 16ms/step - loss: 0.3635 - accuracy: 0.8907\n",
            "Epoch 25/50\n",
            "1875/1875 [==============================] - 30s 16ms/step - loss: 0.3452 - accuracy: 0.8922\n",
            "Epoch 26/50\n",
            "1875/1875 [==============================] - 30s 16ms/step - loss: 0.3532 - accuracy: 0.8906\n",
            "Epoch 27/50\n",
            "1875/1875 [==============================] - 30s 16ms/step - loss: 0.3363 - accuracy: 0.8974\n",
            "Epoch 28/50\n",
            "1875/1875 [==============================] - 30s 16ms/step - loss: 0.3715 - accuracy: 0.8910\n",
            "Epoch 29/50\n",
            "1875/1875 [==============================] - 30s 16ms/step - loss: 0.3748 - accuracy: 0.8924\n",
            "Epoch 30/50\n",
            "1875/1875 [==============================] - 30s 16ms/step - loss: 0.4150 - accuracy: 0.8801\n",
            "Epoch 31/50\n",
            "1875/1875 [==============================] - 30s 16ms/step - loss: 0.4898 - accuracy: 0.8666\n",
            "Epoch 32/50\n",
            "1875/1875 [==============================] - 30s 16ms/step - loss: 0.4034 - accuracy: 0.8860\n",
            "Epoch 33/50\n",
            "1875/1875 [==============================] - 30s 16ms/step - loss: 0.3539 - accuracy: 0.8959\n",
            "Epoch 34/50\n",
            "1875/1875 [==============================] - 30s 16ms/step - loss: 0.3884 - accuracy: 0.8884\n",
            "Epoch 35/50\n",
            "1875/1875 [==============================] - 30s 16ms/step - loss: 0.3478 - accuracy: 0.8962\n",
            "Epoch 36/50\n",
            "1875/1875 [==============================] - 30s 16ms/step - loss: 0.4100 - accuracy: 0.8819\n",
            "Epoch 37/50\n",
            "1875/1875 [==============================] - 30s 16ms/step - loss: 0.3821 - accuracy: 0.8880\n",
            "Epoch 38/50\n",
            "1875/1875 [==============================] - 30s 16ms/step - loss: 0.3920 - accuracy: 0.8868\n",
            "Epoch 39/50\n",
            "1875/1875 [==============================] - 30s 16ms/step - loss: 0.3434 - accuracy: 0.8997\n",
            "Epoch 40/50\n",
            "1875/1875 [==============================] - 30s 16ms/step - loss: 0.4085 - accuracy: 0.8860\n",
            "Epoch 41/50\n",
            "1875/1875 [==============================] - 30s 16ms/step - loss: 0.3805 - accuracy: 0.8932\n",
            "Epoch 42/50\n",
            "1875/1875 [==============================] - 30s 16ms/step - loss: 0.3584 - accuracy: 0.8958\n",
            "Epoch 43/50\n",
            "1875/1875 [==============================] - 30s 16ms/step - loss: 0.4293 - accuracy: 0.8842\n",
            "Epoch 44/50\n",
            "1875/1875 [==============================] - 30s 16ms/step - loss: 0.5300 - accuracy: 0.8620\n",
            "Epoch 45/50\n",
            "1875/1875 [==============================] - 30s 16ms/step - loss: 0.5855 - accuracy: 0.8363\n",
            "Epoch 46/50\n",
            "1875/1875 [==============================] - 30s 16ms/step - loss: 0.4897 - accuracy: 0.8775\n",
            "Epoch 47/50\n",
            "1875/1875 [==============================] - 30s 16ms/step - loss: 0.4295 - accuracy: 0.8815\n",
            "Epoch 48/50\n",
            "1875/1875 [==============================] - 30s 16ms/step - loss: 0.4726 - accuracy: 0.8728\n",
            "Epoch 49/50\n",
            "1875/1875 [==============================] - 30s 16ms/step - loss: 0.3790 - accuracy: 0.8890\n",
            "Epoch 50/50\n",
            "1875/1875 [==============================] - 30s 16ms/step - loss: 0.4020 - accuracy: 0.8825\n",
            "\n",
            "Model 4 testing information\n",
            "\n",
            "\n",
            "Training took  1511.83 seconds\n",
            "\n",
            "\n",
            "Testing statistics\n",
            "\n",
            "313/313 - 2s - loss: 0.3891 - accuracy: 0.9003 - 2s/epoch - 5ms/step\n"
          ]
        },
        {
          "output_type": "display_data",
          "data": {
            "text/plain": [
              "<Figure size 640x480 with 2 Axes>"
            ],
            "image/png": "[encoded data removed]"
          },
          "metadata": {}
        }
      ],
      "source": [
        "tf.keras.backend.clear_session() # clear previously compiled models\n",
        "\n",
        "optimizer = optimizers.Adam(learning_rate = LEARNING_RATE) # set optimizer\n",
        "\n",
        "# get network\n",
        "model_4 = build_model_4() \n",
        "\n",
        "\n",
        "\n",
        "# compile network\n",
        "model_4.compile(\n",
        "    optimizer=optimizer,\n",
        "    loss=tf.keras.losses.SparseCategoricalCrossentropy(from_logits=False),\n",
        "    metrics=[\"accuracy\"],\n",
        ")\n",
        "\n",
        "perf_and_test(model_4, \"Model 4\")"
      ]
    }
  ],
  "metadata": {
    "accelerator": "GPU",
    "colab": {
      "provenance": [],
      "include_colab_link": true
    },
    "gpuClass": "standard",
    "kernelspec": {
      "display_name": "Python 3",
      "name": "python3"
    },
    "language_info": {
      "name": "python"
    }
  },
  "nbformat": 4,
  "nbformat_minor": 0
}